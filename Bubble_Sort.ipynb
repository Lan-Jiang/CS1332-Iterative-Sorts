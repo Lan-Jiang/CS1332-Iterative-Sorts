{
 "cells": [
  {
   "cell_type": "code",
   "execution_count": null,
   "metadata": {},
   "outputs": [],
   "source": [
    "array = [10, 4, 78, 3,5,7,11,28]"
   ]
  },
  {
   "cell_type": "code",
   "execution_count": null,
   "metadata": {},
   "outputs": [],
   "source": [
    "def bubble_sort(array):\n",
    "    start = 0\n",
    "    end = len(array)\n",
    "    # arraylen = len(array)\n",
    "    if (end == 1) :\n",
    "        return array\n",
    "    else:\n",
    "        while start < end :\n",
    "            while (start+1 < end) :\n",
    "                if (array[start] > array[start+1]) :\n",
    "                    array[start], array[start+1] = array[start+1], array[start]\n",
    "                    start = start + 1\n",
    "                else:\n",
    "                    start = start + 1\n",
    "\n",
    "            end = end - 1\n",
    "            start = 0\n",
    "    \n",
    "    return array"
   ]
  },
  {
   "cell_type": "code",
   "execution_count": null,
   "metadata": {},
   "outputs": [],
   "source": [
    "bubble_sort(array)"
   ]
  }
 ],
 "metadata": {
  "language_info": {
   "name": "python"
  },
  "orig_nbformat": 4
 },
 "nbformat": 4,
 "nbformat_minor": 2
}
