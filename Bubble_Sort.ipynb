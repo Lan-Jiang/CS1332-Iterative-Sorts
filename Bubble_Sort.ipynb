{
 "cells": [
  {
   "cell_type": "code",
   "execution_count": 1,
   "metadata": {},
   "outputs": [],
   "source": [
    "array = [10, 4, 78, 3,5,7,11,28]"
   ]
  },
  {
   "cell_type": "code",
   "execution_count": 3,
   "metadata": {},
   "outputs": [],
   "source": [
    "def bubble_sort(array):\n",
    "    start = 0\n",
    "    end = len(array)\n",
    "    # arraylen = len(array)\n",
    "    if (end == 1) :\n",
    "        return array\n",
    "    else:\n",
    "        while start < end :\n",
    "            while (start+1 < end) :\n",
    "                if (array[start] > array[start+1]) :\n",
    "                    array[start], array[start+1] = array[start+1], array[start]\n",
    "                    start = start + 1\n",
    "                else:\n",
    "                    start = start + 1\n",
    "\n",
    "            end = end - 1\n",
    "            start = 0\n",
    "    \n",
    "    return array"
   ]
  },
  {
   "cell_type": "code",
   "execution_count": 4,
   "metadata": {},
   "outputs": [
    {
     "data": {
      "text/plain": [
       "[3, 4, 5, 7, 10, 11, 28, 78]"
      ]
     },
     "execution_count": 4,
     "metadata": {},
     "output_type": "execute_result"
    }
   ],
   "source": [
    "bubble_sort(array)"
   ]
  },
  {
   "cell_type": "code",
   "execution_count": null,
   "metadata": {},
   "outputs": [],
   "source": [
    "# viz https://pythontutor.com/visualize.html#mode=edit\n",
    "# def bubble_sort(array):\n",
    "#     start = 0\n",
    "#     end = len(array)\n",
    "#     # arraylen = len(array)\n",
    "#     if (end == 1) :\n",
    "#         return array\n",
    "#     else:\n",
    "#         while start < end :\n",
    "#             while (start+1 < end) :\n",
    "#                 if (array[start] > array[start+1]) :\n",
    "#                     array[start], array[start+1] = array[start+1], array[start]\n",
    "#                     start = start + 1\n",
    "#                 else:\n",
    "#                     start = start + 1\n",
    "\n",
    "#             end = end - 1\n",
    "#             start = 0\n",
    "    \n",
    "#     return array\n",
    "    \n",
    "# array = [4, 3, 1, 5, 2, 6, 7]\n",
    "# bubble_sort(array)"
   ]
  }
 ],
 "metadata": {
  "kernelspec": {
   "display_name": "base",
   "language": "python",
   "name": "python3"
  },
  "language_info": {
   "codemirror_mode": {
    "name": "ipython",
    "version": 3
   },
   "file_extension": ".py",
   "mimetype": "text/x-python",
   "name": "python",
   "nbconvert_exporter": "python",
   "pygments_lexer": "ipython3",
   "version": "3.8.3"
  },
  "orig_nbformat": 4
 },
 "nbformat": 4,
 "nbformat_minor": 2
}
