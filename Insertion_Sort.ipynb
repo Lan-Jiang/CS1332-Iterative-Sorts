{
 "cells": [
  {
   "cell_type": "code",
   "execution_count": null,
   "metadata": {},
   "outputs": [],
   "source": [
    "array = [4, 3, 1, 5, 2, 6, 7]"
   ]
  },
  {
   "cell_type": "code",
   "execution_count": null,
   "metadata": {},
   "outputs": [],
   "source": [
    "def insertion_sort(array):\n",
    "    iteration = 0\n",
    "    start = 0\n",
    "    end = len(array)\n",
    "    \n",
    "    if (end == 1) :\n",
    "        return array\n",
    "    else:\n",
    "        while iteration < end :\n",
    "            # count = 0\n",
    "            while (start > 0) :          \n",
    "                if (array[start] < array[start-1]) :\n",
    "                    array[start], array[start-1] = array[start-1], array[start]\n",
    "                    start = start - 1\n",
    "                    # count += 1\n",
    "                else:\n",
    "                    start = start - 1\n",
    "            \n",
    "            iteration = iteration + 1\n",
    "            start = iteration\n",
    "        \n",
    "    \n",
    "    return array"
   ]
  },
  {
   "cell_type": "code",
   "execution_count": null,
   "metadata": {},
   "outputs": [],
   "source": [
    "insertion_sort(array)"
   ]
  },
  {
   "cell_type": "code",
   "execution_count": null,
   "metadata": {},
   "outputs": [],
   "source": [
    "# https://pythontutor.com/visualize.html#mode=edit\n",
    "# def insertion_sort(array):\n",
    "#     iteration = 0\n",
    "#     start = 0\n",
    "#     end = len(array)\n",
    "    \n",
    "#     if (end == 1) :\n",
    "#         return array\n",
    "#     else:\n",
    "#         while iteration < end :\n",
    "#             # count = 0\n",
    "#             while (start > 0) :          \n",
    "#                 if (array[start] < array[start-1]) :\n",
    "#                     array[start], array[start-1] = array[start-1], array[start]\n",
    "#                     start = start - 1\n",
    "#                     # count += 1\n",
    "#                 else:\n",
    "#                     start = start - 1\n",
    "            \n",
    "#             iteration = iteration + 1\n",
    "#             start = iteration\n",
    "        \n",
    "    \n",
    "#     return array\n",
    "\n",
    "# array = [4, 3, 1, 5, 2, 6, 7]\n",
    "# insertion_sort(array)"
   ]
  }
 ],
 "metadata": {
  "language_info": {
   "name": "python"
  },
  "orig_nbformat": 4
 },
 "nbformat": 4,
 "nbformat_minor": 2
}
