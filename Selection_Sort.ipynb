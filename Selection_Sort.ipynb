{
 "cells": [
  {
   "cell_type": "code",
   "execution_count": null,
   "metadata": {},
   "outputs": [],
   "source": [
    "array = [4, 3, 1, 5, 2, 6, 7]"
   ]
  },
  {
   "cell_type": "code",
   "execution_count": null,
   "metadata": {},
   "outputs": [],
   "source": [
    "def selection_sort(array):\n",
    "    start = 0\n",
    "    end = len(array)\n",
    "    min_pointer = 0\n",
    "    move_pointer = 0\n",
    "    \n",
    "    if (end == 1) :\n",
    "        return array\n",
    "    else:\n",
    "        while start < end :\n",
    "            while move_pointer < end:\n",
    "                if array[move_pointer] < array[min_pointer]:\n",
    "                    min_pointer = move_pointer\n",
    "                    move_pointer += 1\n",
    "                else:\n",
    "                    move_pointer += 1\n",
    "            \n",
    "            array[start], array[min_pointer] =  array[min_pointer], array[start]\n",
    "            start += 1\n",
    "            move_pointer = start\n",
    "    return array"
   ]
  },
  {
   "cell_type": "code",
   "execution_count": null,
   "metadata": {},
   "outputs": [],
   "source": [
    "selection_sort(array)"
   ]
  },
  {
   "cell_type": "code",
   "execution_count": null,
   "metadata": {},
   "outputs": [],
   "source": [
    "# https://pythontutor.com/visualize.html#mode=edit\n",
    "# def selection_sort(array):\n",
    "#     start = 0\n",
    "#     end = len(array)\n",
    "#     min_pointer = 0\n",
    "#     move_pointer = 0\n",
    "    \n",
    "#     if (end == 1) :\n",
    "#         return array\n",
    "#     else:\n",
    "#         while start < end :\n",
    "#             while move_pointer < end:\n",
    "#                 if array[move_pointer] < array[min_pointer]:\n",
    "#                     min_pointer = move_pointer\n",
    "#                     move_pointer += 1\n",
    "#                 else:\n",
    "#                     move_pointer += 1\n",
    "            \n",
    "#             array[start], array[min_pointer] =  array[min_pointer], array[start]\n",
    "#             start += 1\n",
    "#             move_pointer = start\n",
    "#     return array\n",
    "    \n",
    "# array = [4, 3, 1, 5, 2, 6, 7]\n",
    "# selection_sort(array)"
   ]
  }
 ],
 "metadata": {
  "language_info": {
   "name": "python"
  },
  "orig_nbformat": 4
 },
 "nbformat": 4,
 "nbformat_minor": 2
}
